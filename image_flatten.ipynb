{
  "nbformat": 4,
  "nbformat_minor": 0,
  "metadata": {
    "colab": {
      "name": "image_flatten.ipynb",
      "provenance": []
    },
    "kernelspec": {
      "name": "python3",
      "display_name": "Python 3"
    }
  },
  "cells": [
    {
      "cell_type": "code",
      "metadata": {
        "id": "2Z735MuNHU_D",
        "colab_type": "code",
        "colab": {
          "base_uri": "https://localhost:8080/",
          "height": 67
        },
        "outputId": "c4e78419-0d0b-4079-8cd9-3dfaf7c94499"
      },
      "source": [
        "!pip install scipy==1.1.0\n",
        "!pip install Pillow"
      ],
      "execution_count": 1,
      "outputs": [
        {
          "output_type": "stream",
          "text": [
            "Requirement already satisfied: scipy==1.1.0 in /usr/local/lib/python3.6/dist-packages (1.1.0)\n",
            "Requirement already satisfied: numpy>=1.8.2 in /usr/local/lib/python3.6/dist-packages (from scipy==1.1.0) (1.18.5)\n",
            "Requirement already satisfied: Pillow in /usr/local/lib/python3.6/dist-packages (7.0.0)\n"
          ],
          "name": "stdout"
        }
      ]
    },
    {
      "cell_type": "code",
      "metadata": {
        "id": "z-aGfWOeIkL-",
        "colab_type": "code",
        "colab": {}
      },
      "source": [
        "import scipy\n",
        "import numpy as np\n",
        "from PIL import Image\n",
        "img = Image.open(\"/content/drive/My Drive/Colab Notebooks/1.jpg\")"
      ],
      "execution_count": 7,
      "outputs": []
    },
    {
      "cell_type": "code",
      "metadata": {
        "id": "k6uM0ZsvIkoi",
        "colab_type": "code",
        "colab": {
          "base_uri": "https://localhost:8080/",
          "height": 840
        },
        "outputId": "5ba6f8d7-3b07-4407-c18d-01a0c5867467"
      },
      "source": [
        "img=np.asarray(img)\n",
        "print(img)"
      ],
      "execution_count": 9,
      "outputs": [
        {
          "output_type": "stream",
          "text": [
            "[[[ 48  42  47 255]\n",
            "  [ 51  50  62 255]\n",
            "  [ 59  65  84 255]\n",
            "  ...\n",
            "  [ 38  32  31 255]\n",
            "  [ 35  28  25 255]\n",
            "  [ 29  23  18 255]]\n",
            "\n",
            " [[ 52  46  51 255]\n",
            "  [ 53  50  62 255]\n",
            "  [ 54  58  78 255]\n",
            "  ...\n",
            "  [ 31  26  25 255]\n",
            "  [ 31  23  22 255]\n",
            "  [ 38  29  26 255]]\n",
            "\n",
            " [[ 50  44  49 255]\n",
            "  [ 56  54  65 255]\n",
            "  [ 58  62  82 255]\n",
            "  ...\n",
            "  [ 33  27  26 255]\n",
            "  [ 33  25  25 255]\n",
            "  [ 37  30  27 255]]\n",
            "\n",
            " ...\n",
            "\n",
            " [[ 76  67  64 255]\n",
            "  [ 77  70  67 255]\n",
            "  [ 78  71  68 255]\n",
            "  ...\n",
            "  [ 37  29  30 255]\n",
            "  [ 38  30  31 255]\n",
            "  [ 40  31  34 255]]\n",
            "\n",
            " [[ 75  66  63 255]\n",
            "  [ 78  69  66 255]\n",
            "  [ 79  70  67 255]\n",
            "  ...\n",
            "  [ 38  30  30 255]\n",
            "  [ 37  29  30 255]\n",
            "  [ 39  31  32 255]]\n",
            "\n",
            " [[ 74  65  62 255]\n",
            "  [ 76  67  64 255]\n",
            "  [ 76  67  64 255]\n",
            "  ...\n",
            "  [ 36  31  30 255]\n",
            "  [ 37  29  29 255]\n",
            "  [ 37  29  29 255]]]\n"
          ],
          "name": "stdout"
        }
      ]
    },
    {
      "cell_type": "code",
      "metadata": {
        "id": "6jCiHXTbN6iL",
        "colab_type": "code",
        "colab": {
          "base_uri": "https://localhost:8080/",
          "height": 34
        },
        "outputId": "473bc9fb-6648-4224-8c0e-2ba7a3729e93"
      },
      "source": [
        "print(img.flatten())"
      ],
      "execution_count": 10,
      "outputs": [
        {
          "output_type": "stream",
          "text": [
            "[ 48  42  47 ...  29  29 255]\n"
          ],
          "name": "stdout"
        }
      ]
    },
    {
      "cell_type": "code",
      "metadata": {
        "id": "WPYGvhJ1IlCv",
        "colab_type": "code",
        "colab": {
          "base_uri": "https://localhost:8080/",
          "height": 117
        },
        "outputId": "d8b9f52c-b6a8-4416-8add-9dc6f198f9c0"
      },
      "source": [
        "image=Image.fromarray(img)\n",
        "image"
      ],
      "execution_count": 11,
      "outputs": [
        {
          "output_type": "execute_result",
          "data": {
            "image/png": "[encoded data removed]",
            "text/plain": [
              "<PIL.Image.Image image mode=RGBA size=100x100 at 0x7FEAE97DFD30>"
            ]
          },
          "metadata": {
            "tags": []
          },
          "execution_count": 11
        }
      ]
    }
  ]
}