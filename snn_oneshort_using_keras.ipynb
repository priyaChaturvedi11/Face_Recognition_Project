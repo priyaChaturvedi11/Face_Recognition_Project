{
  "nbformat": 4,
  "nbformat_minor": 0,
  "metadata": {
    "colab": {
      "name": "snn_oneshort_using_keras.ipynb",
      "provenance": [],
      "mount_file_id": "1VG8kYL9RSGSEt-AkXUPajIfBTddiNL1j",
      "authorship_tag": "ABX9TyMAwtZC+2QbWmJNlsiuimJq",
      "include_colab_link": true
    },
    "kernelspec": {
      "name": "python3",
      "display_name": "Python 3"
    },
    "accelerator": "GPU"
  },
  "cells": [
    {
      "cell_type": "markdown",
      "metadata": {
        "id": "view-in-github",
        "colab_type": "text"
      },
      "source": [
        "<a href=\"https://colab.research.google.com/github/priyaChaturvedi11/Face_Recognition_Project/blob/master/snn_oneshort_using_keras.ipynb\" target=\"_parent\"><img src=\"https://colab.research.google.com/assets/colab-badge.svg\" alt=\"Open In Colab\"/></a>"
      ]
    },
    {
      "cell_type": "code",
      "metadata": {
        "id": "EgRR7wZNtROg",
        "colab_type": "code",
        "colab": {}
      },
      "source": [
        "import tensorflow as tf"
      ],
      "execution_count": null,
      "outputs": []
    },
    {
      "cell_type": "code",
      "metadata": {
        "id": "Bk4QjXVnSXmz",
        "colab_type": "code",
        "colab": {}
      },
      "source": [
        "# os package is used to read files and directory structure\n",
        "import os\n",
        "# NumPy is used to convert python list to numpy array and to perform required matrix operations\n",
        "import numpy as np\n",
        "# matplotlib.pyplot to plot the graph and display images in the training and validation data\n",
        "import matplotlib.pyplot as plt\n",
        "\n",
        "# to read images\n",
        "import cv2\n",
        "\n",
        "# using pickle module to save image tensors\n",
        "import pickle\n",
        "\n",
        "# for Image.open()\n",
        "from PIL import Image\n"
      ],
      "execution_count": null,
      "outputs": []
    },
    {
      "cell_type": "code",
      "metadata": {
        "id": "eqrLboXhL3Kg",
        "colab_type": "code",
        "colab": {
          "base_uri": "https://localhost:8080/",
          "height": 36
        },
        "outputId": "dc9fb858-33d1-4b40-8517-9d21ef62c3cb"
      },
      "source": [
        "from keras.models import Sequential\n",
        "from keras.optimizers import Adam\n",
        "from keras.layers import Conv2D, ZeroPadding2D, Activation, Input, concatenate\n",
        "from keras.models import Model\n",
        "\n",
        "from keras.layers.normalization import BatchNormalization\n",
        "from keras.layers.pooling import MaxPooling2D\n",
        "from keras.layers.merge import Concatenate\n",
        "from keras.layers.core import Lambda, Flatten, Dense\n",
        "from keras.initializers import glorot_uniform\n",
        "\n",
        "from keras.engine.topology import Layer\n",
        "from keras.regularizers import l2\n",
        "from keras import backend as K\n",
        "\n",
        "from sklearn.utils import shuffle\n",
        "\n",
        "import numpy.random as rng"
      ],
      "execution_count": null,
      "outputs": [
        {
          "output_type": "stream",
          "text": [
            "Using TensorFlow backend.\n"
          ],
          "name": "stderr"
        }
      ]
    },
    {
      "cell_type": "code",
      "metadata": {
        "id": "se_sJTtNS2qi",
        "colab_type": "code",
        "colab": {}
      },
      "source": [
        "PATH = \"/content/drive/My Drive/Colab Notebooks/frs_dataset_w_train_test_split\""
      ],
      "execution_count": null,
      "outputs": []
    },
    {
      "cell_type": "code",
      "metadata": {
        "id": "tZrDrJLMTM8y",
        "colab_type": "code",
        "colab": {}
      },
      "source": [
        "train_dir = os.path.join(PATH, 'att_training')\n",
        "validation_dir = os.path.join(PATH, 'att_testing')\n",
        "save_path = '/content/drive/My Drive/Colab Notebooks/data'"
      ],
      "execution_count": null,
      "outputs": []
    },
    {
      "cell_type": "code",
      "metadata": {
        "id": "UxHNj9SYTZoj",
        "colab_type": "code",
        "colab": {
          "base_uri": "https://localhost:8080/",
          "height": 36
        },
        "outputId": "953cec51-a1a5-422a-922a-089e0f994b61"
      },
      "source": [
        "train_dir"
      ],
      "execution_count": null,
      "outputs": [
        {
          "output_type": "execute_result",
          "data": {
            "application/vnd.google.colaboratory.intrinsic+json": {
              "type": "string"
            },
            "text/plain": [
              "'/content/drive/My Drive/Colab Notebooks/frs_dataset_w_train_test_split/att_training'"
            ]
          },
          "metadata": {
            "tags": []
          },
          "execution_count": 6
        }
      ]
    },
    {
      "cell_type": "code",
      "metadata": {
        "id": "oKSgBDtATcnQ",
        "colab_type": "code",
        "colab": {
          "base_uri": "https://localhost:8080/",
          "height": 36
        },
        "outputId": "05a77fa8-8cc8-48b6-f725-7b50cd2eff38"
      },
      "source": [
        "validation_dir"
      ],
      "execution_count": null,
      "outputs": [
        {
          "output_type": "execute_result",
          "data": {
            "application/vnd.google.colaboratory.intrinsic+json": {
              "type": "string"
            },
            "text/plain": [
              "'/content/drive/My Drive/Colab Notebooks/frs_dataset_w_train_test_split/att_testing'"
            ]
          },
          "metadata": {
            "tags": []
          },
          "execution_count": 7
        }
      ]
    },
    {
      "cell_type": "code",
      "metadata": {
        "id": "zaioER8-XCys",
        "colab_type": "code",
        "colab": {
          "base_uri": "https://localhost:8080/",
          "height": 36
        },
        "outputId": "eaa64677-93bc-4aa5-ed2e-ee5370d4e8cb"
      },
      "source": [
        "save_path"
      ],
      "execution_count": null,
      "outputs": [
        {
          "output_type": "execute_result",
          "data": {
            "application/vnd.google.colaboratory.intrinsic+json": {
              "type": "string"
            },
            "text/plain": [
              "'/content/drive/My Drive/Colab Notebooks/data'"
            ]
          },
          "metadata": {
            "tags": []
          },
          "execution_count": 8
        }
      ]
    },
    {
      "cell_type": "markdown",
      "metadata": {
        "id": "xckWmtlwTm9N",
        "colab_type": "text"
      },
      "source": [
        "Understanding the data"
      ]
    },
    {
      "cell_type": "code",
      "metadata": {
        "id": "g8HIB_1pTeTY",
        "colab_type": "code",
        "colab": {}
      },
      "source": [
        "num_total_classes_for_training = len(os.listdir(train_dir))\n",
        "num_total_classes_for_testing = len(os.listdir(validation_dir))"
      ],
      "execution_count": null,
      "outputs": []
    },
    {
      "cell_type": "code",
      "metadata": {
        "id": "fLaf9UjEUEMM",
        "colab_type": "code",
        "colab": {
          "base_uri": "https://localhost:8080/",
          "height": 36
        },
        "outputId": "3cb1b333-8b02-48f0-fd6c-487d4c3f7bc0"
      },
      "source": [
        "num_total_classes_for_testing"
      ],
      "execution_count": null,
      "outputs": [
        {
          "output_type": "execute_result",
          "data": {
            "text/plain": [
              "3"
            ]
          },
          "metadata": {
            "tags": []
          },
          "execution_count": 10
        }
      ]
    },
    {
      "cell_type": "code",
      "metadata": {
        "id": "j5JZHFWQUUPI",
        "colab_type": "code",
        "colab": {
          "base_uri": "https://localhost:8080/",
          "height": 36
        },
        "outputId": "eb82fcac-c988-4c1e-e933-e9666159b8da"
      },
      "source": [
        "num_total_classes_for_training\n",
        "# earlier it was 37, we deleted S3"
      ],
      "execution_count": null,
      "outputs": [
        {
          "output_type": "execute_result",
          "data": {
            "text/plain": [
              "36"
            ]
          },
          "metadata": {
            "tags": []
          },
          "execution_count": 11
        }
      ]
    },
    {
      "cell_type": "code",
      "metadata": {
        "id": "UbS0x7ghUcIK",
        "colab_type": "code",
        "colab": {
          "base_uri": "https://localhost:8080/",
          "height": 36
        },
        "outputId": "11fbf7c2-a157-4db8-aa9f-9cf2b03cdcc2"
      },
      "source": [
        "total_images_for_training = 0\n",
        "total_images_in_folder = 0\n",
        "for folder in os.listdir(train_dir):\n",
        "    # print(\"Loading folder:\" + folder)\n",
        "    folder_path = os.path.join(train_dir,folder)\n",
        "    total_images_in_folder = len(os.listdir(folder_path))\n",
        "    # print(\"Total images in this folder\", total_images_in_folder)\n",
        "    total_images_for_training += total_images_in_folder\n",
        "print(\"Total images for training: \", total_images_for_training)\n",
        "# 14 * 36 = 504"
      ],
      "execution_count": null,
      "outputs": [
        {
          "output_type": "stream",
          "text": [
            "Total images for training:  504\n"
          ],
          "name": "stdout"
        }
      ]
    },
    {
      "cell_type": "markdown",
      "metadata": {
        "id": "Moqy0pLF31C8",
        "colab_type": "text"
      },
      "source": [
        "To see what loadimgs() function is doing\n",
        "And what do X and y contain\n"
      ]
    },
    {
      "cell_type": "code",
      "metadata": {
        "id": "d83sqEs1wgrB",
        "colab_type": "code",
        "colab": {
          "base_uri": "https://localhost:8080/",
          "height": 132
        },
        "outputId": "658a13d4-d116-49e2-b0aa-210a039b1023"
      },
      "source": [
        "    path = validation_dir\n",
        "    X = []\n",
        "    y = []\n",
        "    folder_index_dictionary = {}\n",
        "    # to indicate folder index\n",
        "    n = 0\n",
        "    curr_y = n\n",
        "\n",
        "    # do this for all the folders in testing set \n",
        "    for folder in os.listdir(path):\n",
        "        print(\"loading folder\" + folder, curr_y)\n",
        "        # folder_index_dictionary contains keys such as S1, S2, S3\n",
        "        # for each key there is a list of length 2\n",
        "        # first element of that list contains index of the folder\n",
        "        # second index of list contains None and \n",
        "        # will later contain a value equal to curr_y-1 because after every iteration we are increasing curr_y\n",
        "        folder_index_dictionary[folder] = [curr_y, None]\n",
        "        folder_path = os.path.join(path, folder)\n",
        "        all_image_instances = []\n",
        "        \n",
        "\n",
        "        # do this for all the images in a folder\n",
        "        for filename in os.listdir(folder_path):\n",
        "            image_path = os.path.join(folder_path, filename)\n",
        "            X.append(\n",
        "                [np.asarray(\n",
        "                    Image.open(image_path).crop((10, 0, 92, 102)).resize((64,64), Image.ANTIALIAS)\n",
        "                ), curr_y]\n",
        "            )\n",
        "            y.append(curr_y)\n",
        "        curr_y += 1\n",
        "        # what is this doing??\n",
        "        folder_index_dictionary[folder][1] = curr_y - 1\n",
        "        print(\"folder_index_dictionary\", folder_index_dictionary)\n",
        "        # print(X[0][0][0])\n"
      ],
      "execution_count": null,
      "outputs": [
        {
          "output_type": "stream",
          "text": [
            "loading folderS7 0\n",
            "folder_index_dictionary {'S7': [0, 0]}\n",
            "loading folderS5 1\n",
            "folder_index_dictionary {'S7': [0, 0], 'S5': [1, 1]}\n",
            "loading folderS6 2\n",
            "folder_index_dictionary {'S7': [0, 0], 'S5': [1, 1], 'S6': [2, 2]}\n"
          ],
          "name": "stdout"
        }
      ]
    },
    {
      "cell_type": "code",
      "metadata": {
        "id": "91uUrmABxk9T",
        "colab_type": "code",
        "colab": {}
      },
      "source": [
        "image = cv2.imread(image_path)\n",
        "            all_image_instances.append(image)\n",
        "            # for each image in testing set, y contains index of folder to which they belong\n",
        "            y.append(curr_y)\n",
        "        print(y)   \n",
        "        try:\n",
        "            X.append(np.stack(all_image_instances, axis = 0))\n",
        "            print(len(X))\n",
        "        # edge case - last one\n",
        "        except ValueError as e:\n",
        "            print(e)\n",
        "            print(\"error - all image instances\", all_image_instances)"
      ],
      "execution_count": null,
      "outputs": []
    },
    {
      "cell_type": "code",
      "metadata": {
        "id": "RH__IK3UpEzL",
        "colab_type": "code",
        "colab": {
          "base_uri": "https://localhost:8080/",
          "height": 841
        },
        "outputId": "618242ae-3740-4b04-b5fa-77103aa99a3c"
      },
      "source": [
        "y"
      ],
      "execution_count": null,
      "outputs": [
        {
          "output_type": "execute_result",
          "data": {
            "text/plain": [
              "[0,\n",
              " 0,\n",
              " 0,\n",
              " 0,\n",
              " 0,\n",
              " 0,\n",
              " 0,\n",
              " 0,\n",
              " 0,\n",
              " 0,\n",
              " 0,\n",
              " 0,\n",
              " 0,\n",
              " 0,\n",
              " 1,\n",
              " 1,\n",
              " 1,\n",
              " 1,\n",
              " 1,\n",
              " 1,\n",
              " 1,\n",
              " 1,\n",
              " 1,\n",
              " 1,\n",
              " 1,\n",
              " 1,\n",
              " 1,\n",
              " 1,\n",
              " 1,\n",
              " 2,\n",
              " 2,\n",
              " 2,\n",
              " 2,\n",
              " 2,\n",
              " 2,\n",
              " 2,\n",
              " 2,\n",
              " 2,\n",
              " 2,\n",
              " 2,\n",
              " 2,\n",
              " 2,\n",
              " 2]"
            ]
          },
          "metadata": {
            "tags": []
          },
          "execution_count": 111
        }
      ]
    },
    {
      "cell_type": "code",
      "metadata": {
        "id": "8g-XBqURpJQa",
        "colab_type": "code",
        "colab": {
          "base_uri": "https://localhost:8080/",
          "height": 841
        },
        "outputId": "c074f82a-ab1f-4269-c41f-bade81452497"
      },
      "source": [
        "    y = np.vstack(y)\n",
        "    y"
      ],
      "execution_count": null,
      "outputs": [
        {
          "output_type": "execute_result",
          "data": {
            "text/plain": [
              "array([[0],\n",
              "       [0],\n",
              "       [0],\n",
              "       [0],\n",
              "       [0],\n",
              "       [0],\n",
              "       [0],\n",
              "       [0],\n",
              "       [0],\n",
              "       [0],\n",
              "       [0],\n",
              "       [0],\n",
              "       [0],\n",
              "       [0],\n",
              "       [1],\n",
              "       [1],\n",
              "       [1],\n",
              "       [1],\n",
              "       [1],\n",
              "       [1],\n",
              "       [1],\n",
              "       [1],\n",
              "       [1],\n",
              "       [1],\n",
              "       [1],\n",
              "       [1],\n",
              "       [1],\n",
              "       [1],\n",
              "       [1],\n",
              "       [2],\n",
              "       [2],\n",
              "       [2],\n",
              "       [2],\n",
              "       [2],\n",
              "       [2],\n",
              "       [2],\n",
              "       [2],\n",
              "       [2],\n",
              "       [2],\n",
              "       [2],\n",
              "       [2],\n",
              "       [2],\n",
              "       [2]])"
            ]
          },
          "metadata": {
            "tags": []
          },
          "execution_count": 112
        }
      ]
    },
    {
      "cell_type": "code",
      "metadata": {
        "id": "4aO0ismOpQH9",
        "colab_type": "code",
        "colab": {
          "base_uri": "https://localhost:8080/",
          "height": 1000
        },
        "outputId": "60b5e91a-9e24-4ca6-ee14-3f383b5421a1"
      },
      "source": [
        "X"
      ],
      "execution_count": null,
      "outputs": [
        {
          "output_type": "execute_result",
          "data": {
            "text/plain": [
              "[[array([[51, 54, 55, ..., 58, 60, 59],\n",
              "         [55, 56, 55, ..., 57, 59, 61],\n",
              "         [57, 54, 56, ..., 59, 60, 60],\n",
              "         ...,\n",
              "         [51, 49, 52, ..., 64, 63, 63],\n",
              "         [48, 47, 51, ..., 65, 64, 61],\n",
              "         [47, 51, 50, ..., 64, 64, 61]], dtype=uint8), 0],\n",
              " [array([[54, 55, 55, ..., 60, 58, 57],\n",
              "         [57, 56, 56, ..., 61, 61, 57],\n",
              "         [56, 54, 57, ..., 61, 61, 60],\n",
              "         ...,\n",
              "         [53, 48, 51, ..., 63, 64, 65],\n",
              "         [52, 50, 50, ..., 63, 68, 64],\n",
              "         [49, 49, 51, ..., 64, 66, 64]], dtype=uint8), 0],\n",
              " [array([[52, 52, 52, ..., 57, 57, 52],\n",
              "         [53, 54, 52, ..., 56, 59, 57],\n",
              "         [53, 52, 53, ..., 56, 55, 58],\n",
              "         ...,\n",
              "         [48, 48, 50, ..., 59, 60, 60],\n",
              "         [49, 50, 51, ..., 58, 61, 62],\n",
              "         [50, 52, 50, ..., 58, 59, 62]], dtype=uint8), 0],\n",
              " [array([[73, 70, 74, ..., 73, 71, 75],\n",
              "         [74, 79, 85, ..., 75, 74, 76],\n",
              "         [81, 82, 86, ..., 75, 74, 73],\n",
              "         ...,\n",
              "         [55, 54, 57, ..., 75, 78, 75],\n",
              "         [54, 56, 58, ..., 78, 77, 75],\n",
              "         [58, 57, 58, ..., 75, 77, 75]], dtype=uint8), 0],\n",
              " [array([[71, 69, 71, ..., 72, 75, 76],\n",
              "         [68, 72, 79, ..., 74, 76, 75],\n",
              "         [72, 72, 84, ..., 76, 74, 79],\n",
              "         ...,\n",
              "         [48, 48, 51, ..., 75, 77, 79],\n",
              "         [51, 51, 50, ..., 75, 75, 76],\n",
              "         [51, 51, 52, ..., 76, 75, 75]], dtype=uint8), 0],\n",
              " [array([[53, 53, 53, ..., 60, 62, 55],\n",
              "         [56, 56, 55, ..., 60, 60, 59],\n",
              "         [57, 54, 54, ..., 59, 59, 62],\n",
              "         ...,\n",
              "         [49, 47, 52, ..., 64, 63, 63],\n",
              "         [51, 49, 51, ..., 68, 62, 66],\n",
              "         [51, 51, 52, ..., 68, 66, 62]], dtype=uint8), 0],\n",
              " [array([[55, 55, 55, ..., 59, 59, 60],\n",
              "         [55, 56, 57, ..., 60, 59, 62],\n",
              "         [57, 59, 59, ..., 62, 62, 60],\n",
              "         ...,\n",
              "         [51, 50, 52, ..., 64, 63, 66],\n",
              "         [50, 53, 52, ..., 66, 65, 63],\n",
              "         [52, 54, 53, ..., 67, 66, 62]], dtype=uint8), 0],\n",
              " [array([[72, 74, 71, ..., 71, 69, 74],\n",
              "         [75, 81, 78, ..., 72, 71, 71],\n",
              "         [74, 67, 70, ..., 72, 73, 71],\n",
              "         ...,\n",
              "         [53, 46, 48, ..., 72, 73, 76],\n",
              "         [54, 50, 46, ..., 75, 71, 73],\n",
              "         [48, 50, 51, ..., 73, 71, 75]], dtype=uint8), 0],\n",
              " [array([[54, 56, 56, ..., 58, 59, 62],\n",
              "         [55, 54, 55, ..., 58, 60, 60],\n",
              "         [56, 54, 56, ..., 61, 63, 59],\n",
              "         ...,\n",
              "         [47, 46, 49, ..., 64, 63, 63],\n",
              "         [46, 46, 50, ..., 62, 64, 66],\n",
              "         [48, 48, 48, ..., 61, 65, 67]], dtype=uint8), 0],\n",
              " [array([[55, 55, 53, ..., 61, 61, 60],\n",
              "         [56, 57, 56, ..., 61, 59, 62],\n",
              "         [58, 58, 56, ..., 60, 61, 64],\n",
              "         ...,\n",
              "         [50, 48, 51, ..., 65, 66, 64],\n",
              "         [50, 49, 52, ..., 69, 64, 66],\n",
              "         [50, 51, 51, ..., 65, 63, 66]], dtype=uint8), 0],\n",
              " [array([[54, 54, 55, ..., 60, 61, 57],\n",
              "         [59, 55, 56, ..., 60, 61, 58],\n",
              "         [57, 55, 54, ..., 59, 60, 61],\n",
              "         ...,\n",
              "         [50, 48, 51, ..., 64, 62, 64],\n",
              "         [50, 50, 51, ..., 67, 60, 66],\n",
              "         [51, 50, 52, ..., 70, 65, 63]], dtype=uint8), 0],\n",
              " [array([[73, 71, 72, ..., 73, 71, 76],\n",
              "         [76, 80, 84, ..., 75, 74, 74],\n",
              "         [80, 82, 87, ..., 73, 75, 71],\n",
              "         ...,\n",
              "         [52, 54, 57, ..., 76, 78, 76],\n",
              "         [55, 55, 58, ..., 77, 79, 76],\n",
              "         [58, 58, 57, ..., 75, 77, 76]], dtype=uint8), 0],\n",
              " [array([[71, 75, 71, ..., 71, 69, 73],\n",
              "         [74, 81, 77, ..., 73, 71, 71],\n",
              "         [74, 68, 69, ..., 71, 74, 72],\n",
              "         ...,\n",
              "         [51, 49, 46, ..., 71, 74, 76],\n",
              "         [53, 49, 46, ..., 76, 72, 73],\n",
              "         [48, 49, 51, ..., 74, 71, 73]], dtype=uint8), 0],\n",
              " [array([[55, 56, 57, ..., 61, 59, 56],\n",
              "         [58, 55, 56, ..., 59, 60, 59],\n",
              "         [55, 52, 59, ..., 62, 61, 59],\n",
              "         ...,\n",
              "         [53, 48, 51, ..., 62, 64, 64],\n",
              "         [53, 49, 50, ..., 65, 65, 65],\n",
              "         [50, 50, 51, ..., 65, 68, 63]], dtype=uint8), 0],\n",
              " [array([[129, 130, 130, ..., 121, 121, 122],\n",
              "         [130, 130, 133, ..., 121, 122, 122],\n",
              "         [130, 128, 132, ..., 124, 123, 123],\n",
              "         ...,\n",
              "         [107, 109, 100, ...,  57,  59,  59],\n",
              "         [104, 107,  99, ...,  56,  58,  54],\n",
              "         [105, 105,  99, ...,  56,  57,  55]], dtype=uint8), 1],\n",
              " [array([[124, 125, 125, ..., 125, 124, 124],\n",
              "         [126, 124, 126, ..., 126, 125, 124],\n",
              "         [124, 125, 125, ..., 125, 124, 127],\n",
              "         ...,\n",
              "         [ 87,  88,  88, ...,  91,  93,  90],\n",
              "         [ 86,  87,  86, ...,  92,  91,  92],\n",
              "         [ 85,  86,  86, ...,  91,  90,  91]], dtype=uint8), 1],\n",
              " [array([[132, 133, 132, ..., 123, 121, 123],\n",
              "         [130, 132, 130, ..., 121, 123, 123],\n",
              "         [128, 131, 129, ..., 122, 122, 120],\n",
              "         ...,\n",
              "         [109, 105, 105, ...,  59,  59,  59],\n",
              "         [108, 101, 108, ...,  57,  59,  57],\n",
              "         [106,  98, 107, ...,  55,  58,  56]], dtype=uint8), 1],\n",
              " [array([[132, 131, 130, ..., 123, 124, 122],\n",
              "         [130, 131, 128, ..., 123, 122, 123],\n",
              "         [133, 134, 123, ..., 122, 122, 122],\n",
              "         ...,\n",
              "         [107, 107, 108, ...,  59,  59,  60],\n",
              "         [108, 107, 106, ...,  58,  58,  59],\n",
              "         [106, 106, 106, ...,  57,  58,  59]], dtype=uint8), 1],\n",
              " [array([[128, 129, 127, ..., 125, 126, 125],\n",
              "         [130, 130, 124, ..., 126, 126, 128],\n",
              "         [129, 129, 119, ..., 129, 126, 125],\n",
              "         ...,\n",
              "         [ 84,  82,  92, ...,  89,  92,  88],\n",
              "         [ 78,  92, 110, ...,  90,  89,  88],\n",
              "         [103,  84,  53, ...,  91,  89,  87]], dtype=uint8), 1],\n",
              " [array([[128, 124, 113, ..., 126, 124, 125],\n",
              "         [126, 116, 113, ..., 125, 125, 126],\n",
              "         [122, 113, 118, ..., 124, 126, 124],\n",
              "         ...,\n",
              "         [ 82,  87,  64, ...,  89,  89,  92],\n",
              "         [ 82,  84,  82, ...,  90,  89,  91],\n",
              "         [ 78, 102,  70, ...,  89,  89,  89]], dtype=uint8), 1],\n",
              " [array([[131, 129, 131, ..., 123, 123, 125],\n",
              "         [131, 134, 132, ..., 123, 122, 122],\n",
              "         [129, 131, 129, ..., 124, 122, 120],\n",
              "         ...,\n",
              "         [109, 109, 109, ...,  58,  57,  59],\n",
              "         [107, 106, 107, ...,  57,  58,  58],\n",
              "         [107, 105, 104, ...,  56,  58,  56]], dtype=uint8), 1],\n",
              " [array([[128, 128, 125, ..., 125, 126, 126],\n",
              "         [128, 127, 125, ..., 125, 125, 125],\n",
              "         [129, 124, 129, ..., 126, 126, 125],\n",
              "         ...,\n",
              "         [ 86,  85,  86, ...,  90,  91,  92],\n",
              "         [ 84,  85,  84, ...,  91,  90,  90],\n",
              "         [ 84,  83,  84, ...,  89,  91,  89]], dtype=uint8), 1],\n",
              " [array([[127, 128, 126, ..., 125, 125, 124],\n",
              "         [127, 125, 120, ..., 124, 124, 125],\n",
              "         [117, 102,  99, ..., 124, 125, 124],\n",
              "         ...,\n",
              "         [ 84,  87,  79, ...,  91,  91,  91],\n",
              "         [ 81,  87,  70, ...,  90,  89,  89],\n",
              "         [ 81,  85,  75, ...,  89,  90,  91]], dtype=uint8), 1],\n",
              " [array([[128, 130, 127, ..., 123, 120, 120],\n",
              "         [130, 130, 128, ..., 120, 119, 121],\n",
              "         [128, 128, 128, ..., 120, 120, 119],\n",
              "         ...,\n",
              "         [106, 108,  96, ...,  57,  57,  59],\n",
              "         [108, 107,  96, ...,  56,  57,  56],\n",
              "         [106, 106,  92, ...,  56,  56,  54]], dtype=uint8), 1],\n",
              " [array([[130, 131, 127, ..., 123, 121, 119],\n",
              "         [128, 130, 128, ..., 121, 120, 120],\n",
              "         [125, 127, 126, ..., 120, 119, 119],\n",
              "         ...,\n",
              "         [106, 108,  95, ...,  57,  58,  59],\n",
              "         [106, 108,  94, ...,  56,  57,  57],\n",
              "         [105, 106,  92, ...,  56,  56,  55]], dtype=uint8), 1],\n",
              " [array([[131, 134, 131, ..., 123, 123, 123],\n",
              "         [129, 132, 130, ..., 122, 122, 123],\n",
              "         [129, 131, 128, ..., 123, 122, 121],\n",
              "         ...,\n",
              "         [110, 103, 107, ...,  58,  60,  60],\n",
              "         [105, 101, 108, ...,  55,  60,  59],\n",
              "         [107,  99, 106, ...,  54,  58,  58]], dtype=uint8), 1],\n",
              " [array([[130, 124, 113, ..., 125, 124, 125],\n",
              "         [126, 115, 114, ..., 125, 125, 126],\n",
              "         [121, 114, 117, ..., 125, 124, 124],\n",
              "         ...,\n",
              "         [ 81,  86,  65, ...,  90,  90,  91],\n",
              "         [ 82,  84,  83, ...,  89,  90,  90],\n",
              "         [ 77, 102,  70, ...,  87,  89,  90]], dtype=uint8), 1],\n",
              " [array([[130, 124, 113, ..., 125, 124, 125],\n",
              "         [126, 115, 114, ..., 125, 125, 126],\n",
              "         [121, 114, 117, ..., 125, 124, 124],\n",
              "         ...,\n",
              "         [ 81,  86,  65, ...,  90,  90,  91],\n",
              "         [ 82,  84,  83, ...,  89,  90,  90],\n",
              "         [ 77, 102,  70, ...,  87,  89,  90]], dtype=uint8), 1],\n",
              " [array([[128, 128, 128, ..., 124, 124, 126],\n",
              "         [129, 131, 124, ..., 126, 126, 127],\n",
              "         [130, 127, 121, ..., 128, 126, 126],\n",
              "         ...,\n",
              "         [ 86,  83,  91, ...,  90,  91,  89],\n",
              "         [ 77,  92, 109, ...,  90,  89,  89],\n",
              "         [102,  84,  52, ...,  91,  88,  88]], dtype=uint8), 1],\n",
              " [array([[155, 154, 154, ..., 151, 150, 149],\n",
              "         [154, 155, 155, ..., 151, 151, 151],\n",
              "         [155, 155, 156, ..., 151, 150, 151],\n",
              "         ...,\n",
              "         [106, 112,  94, ..., 118, 117, 118],\n",
              "         [110,  97, 111, ..., 117, 117, 116],\n",
              "         [109,  77, 176, ..., 117, 115, 114]], dtype=uint8), 2],\n",
              " [array([[156, 156, 154, ..., 152, 152, 151],\n",
              "         [156, 156, 156, ..., 151, 151, 150],\n",
              "         [156, 155, 156, ..., 150, 150, 151],\n",
              "         ...,\n",
              "         [105, 107, 155, ..., 121, 119, 121],\n",
              "         [ 84, 154, 171, ..., 120, 119, 119],\n",
              "         [109, 220, 165, ..., 117, 118, 117]], dtype=uint8), 2],\n",
              " [array([[155, 155, 153, ..., 151, 151, 151],\n",
              "         [154, 153, 155, ..., 149, 151, 151],\n",
              "         [155, 154, 155, ..., 152, 150, 150],\n",
              "         ...,\n",
              "         [107, 106, 108, ..., 118, 117, 119],\n",
              "         [107, 106, 109, ..., 117, 119, 117],\n",
              "         [106, 108, 109, ..., 116, 116, 116]], dtype=uint8), 2],\n",
              " [array([[153, 154, 154, ..., 150, 150, 150],\n",
              "         [153, 153, 155, ..., 149, 151, 150],\n",
              "         [154, 153, 154, ..., 150, 150, 150],\n",
              "         ...,\n",
              "         [108, 108, 107, ..., 118, 118, 116],\n",
              "         [105, 113,  81, ..., 118, 117, 118],\n",
              "         [109,  96,  96, ..., 116, 114, 115]], dtype=uint8), 2],\n",
              " [array([[147, 145, 146, ..., 143, 146, 141],\n",
              "         [145, 146, 147, ..., 146, 145, 143],\n",
              "         [145, 147, 147, ..., 145, 144, 145],\n",
              "         ...,\n",
              "         [121, 101, 193, ...,  85,  86,  84],\n",
              "         [103, 152, 237, ...,  83,  87,  85],\n",
              "         [112, 220, 231, ...,  84,  82,  85]], dtype=uint8), 2],\n",
              " [array([[155, 154, 154, ..., 151, 151, 150],\n",
              "         [155, 153, 155, ..., 151, 150, 150],\n",
              "         [153, 153, 153, ..., 149, 151, 151],\n",
              "         ...,\n",
              "         [109, 107, 110, ..., 119, 118, 120],\n",
              "         [107, 109, 109, ..., 116, 117, 118],\n",
              "         [107, 111,  88, ..., 116, 118, 117]], dtype=uint8), 2],\n",
              " [array([[153, 154, 153, ..., 149, 150, 150],\n",
              "         [152, 153, 153, ..., 150, 150, 150],\n",
              "         [154, 154, 153, ..., 149, 151, 149],\n",
              "         ...,\n",
              "         [106, 109,  96, ..., 117, 115, 120],\n",
              "         [110,  96, 103, ..., 116, 116, 118],\n",
              "         [113,  72, 157, ..., 116, 114, 114]], dtype=uint8), 2],\n",
              " [array([[147, 146, 147, ..., 145, 145, 145],\n",
              "         [147, 146, 145, ..., 144, 145, 145],\n",
              "         [144, 145, 145, ..., 146, 145, 145],\n",
              "         ...,\n",
              "         [127, 108, 131, ...,  84,  87,  85],\n",
              "         [117, 107, 209, ...,  80,  85,  87],\n",
              "         [100, 167, 233, ...,  84,  82,  84]], dtype=uint8), 2],\n",
              " [array([[146, 148, 146, ..., 146, 145, 145],\n",
              "         [145, 147, 147, ..., 145, 145, 145],\n",
              "         [147, 147, 146, ..., 145, 147, 145],\n",
              "         ...,\n",
              "         [125, 132, 101, ...,  86,  84,  88],\n",
              "         [128, 112, 125, ...,  84,  87,  86],\n",
              "         [124, 104, 194, ...,  84,  86,  83]], dtype=uint8), 2],\n",
              " [array([[154, 155, 156, ..., 149, 150, 148],\n",
              "         [154, 155, 156, ..., 150, 150, 150],\n",
              "         [155, 155, 156, ..., 150, 151, 151],\n",
              "         ...,\n",
              "         [144, 151, 156, ..., 122, 123, 120],\n",
              "         [135, 143, 148, ..., 121, 122, 118],\n",
              "         [125, 137, 143, ..., 117, 120, 119]], dtype=uint8), 2],\n",
              " [array([[148, 145, 146, ..., 145, 145, 142],\n",
              "         [145, 146, 148, ..., 145, 144, 143],\n",
              "         [145, 148, 146, ..., 146, 145, 144],\n",
              "         ...,\n",
              "         [124, 100, 194, ...,  84,  87,  84],\n",
              "         [101, 153, 239, ...,  83,  86,  85],\n",
              "         [112, 220, 231, ...,  84,  81,  84]], dtype=uint8), 2],\n",
              " [array([[145, 147, 146, ..., 146, 146, 146],\n",
              "         [145, 148, 146, ..., 145, 145, 145],\n",
              "         [147, 147, 146, ..., 146, 146, 146],\n",
              "         ...,\n",
              "         [127, 129, 103, ...,  86,  85,  88],\n",
              "         [128, 113, 126, ...,  85,  86,  86],\n",
              "         [125, 104, 195, ...,  82,  85,  84]], dtype=uint8), 2],\n",
              " [array([[145, 147, 146, ..., 146, 146, 146],\n",
              "         [145, 148, 146, ..., 145, 145, 145],\n",
              "         [147, 147, 146, ..., 146, 146, 146],\n",
              "         ...,\n",
              "         [127, 129, 103, ...,  86,  85,  88],\n",
              "         [128, 113, 126, ...,  85,  86,  86],\n",
              "         [125, 104, 195, ...,  82,  85,  84]], dtype=uint8), 2],\n",
              " [array([[154, 154, 154, ..., 151, 150, 149],\n",
              "         [153, 153, 154, ..., 149, 150, 151],\n",
              "         [153, 153, 153, ..., 150, 150, 150],\n",
              "         ...,\n",
              "         [109, 109, 108, ..., 117, 117, 117],\n",
              "         [107, 111,  82, ..., 118, 118, 118],\n",
              "         [106,  98,  97, ..., 115, 114, 114]], dtype=uint8), 2]]"
            ]
          },
          "metadata": {
            "tags": []
          },
          "execution_count": 114
        }
      ]
    },
    {
      "cell_type": "code",
      "metadata": {
        "id": "XtZ9pIXWp10Y",
        "colab_type": "code",
        "colab": {
          "base_uri": "https://localhost:8080/",
          "height": 36
        },
        "outputId": "359c5c4f-e690-47ba-9866-41718d0a3d34"
      },
      "source": [
        "len(X)"
      ],
      "execution_count": null,
      "outputs": [
        {
          "output_type": "execute_result",
          "data": {
            "text/plain": [
              "43"
            ]
          },
          "metadata": {
            "tags": []
          },
          "execution_count": 117
        }
      ]
    },
    {
      "cell_type": "code",
      "metadata": {
        "id": "EqEQJvMKpYt9",
        "colab_type": "code",
        "colab": {
          "base_uri": "https://localhost:8080/",
          "height": 1000
        },
        "outputId": "6370a845-a267-4351-d224-3447449e0b25"
      },
      "source": [
        "X = np.stack(X)       \n",
        "X"
      ],
      "execution_count": null,
      "outputs": [
        {
          "output_type": "execute_result",
          "data": {
            "text/plain": [
              "array([[array([[51, 54, 55, ..., 58, 60, 59],\n",
              "       [55, 56, 55, ..., 57, 59, 61],\n",
              "       [57, 54, 56, ..., 59, 60, 60],\n",
              "       ...,\n",
              "       [51, 49, 52, ..., 64, 63, 63],\n",
              "       [48, 47, 51, ..., 65, 64, 61],\n",
              "       [47, 51, 50, ..., 64, 64, 61]], dtype=uint8),\n",
              "        0],\n",
              "       [array([[54, 55, 55, ..., 60, 58, 57],\n",
              "       [57, 56, 56, ..., 61, 61, 57],\n",
              "       [56, 54, 57, ..., 61, 61, 60],\n",
              "       ...,\n",
              "       [53, 48, 51, ..., 63, 64, 65],\n",
              "       [52, 50, 50, ..., 63, 68, 64],\n",
              "       [49, 49, 51, ..., 64, 66, 64]], dtype=uint8),\n",
              "        0],\n",
              "       [array([[52, 52, 52, ..., 57, 57, 52],\n",
              "       [53, 54, 52, ..., 56, 59, 57],\n",
              "       [53, 52, 53, ..., 56, 55, 58],\n",
              "       ...,\n",
              "       [48, 48, 50, ..., 59, 60, 60],\n",
              "       [49, 50, 51, ..., 58, 61, 62],\n",
              "       [50, 52, 50, ..., 58, 59, 62]], dtype=uint8),\n",
              "        0],\n",
              "       [array([[73, 70, 74, ..., 73, 71, 75],\n",
              "       [74, 79, 85, ..., 75, 74, 76],\n",
              "       [81, 82, 86, ..., 75, 74, 73],\n",
              "       ...,\n",
              "       [55, 54, 57, ..., 75, 78, 75],\n",
              "       [54, 56, 58, ..., 78, 77, 75],\n",
              "       [58, 57, 58, ..., 75, 77, 75]], dtype=uint8),\n",
              "        0],\n",
              "       [array([[71, 69, 71, ..., 72, 75, 76],\n",
              "       [68, 72, 79, ..., 74, 76, 75],\n",
              "       [72, 72, 84, ..., 76, 74, 79],\n",
              "       ...,\n",
              "       [48, 48, 51, ..., 75, 77, 79],\n",
              "       [51, 51, 50, ..., 75, 75, 76],\n",
              "       [51, 51, 52, ..., 76, 75, 75]], dtype=uint8),\n",
              "        0],\n",
              "       [array([[53, 53, 53, ..., 60, 62, 55],\n",
              "       [56, 56, 55, ..., 60, 60, 59],\n",
              "       [57, 54, 54, ..., 59, 59, 62],\n",
              "       ...,\n",
              "       [49, 47, 52, ..., 64, 63, 63],\n",
              "       [51, 49, 51, ..., 68, 62, 66],\n",
              "       [51, 51, 52, ..., 68, 66, 62]], dtype=uint8),\n",
              "        0],\n",
              "       [array([[55, 55, 55, ..., 59, 59, 60],\n",
              "       [55, 56, 57, ..., 60, 59, 62],\n",
              "       [57, 59, 59, ..., 62, 62, 60],\n",
              "       ...,\n",
              "       [51, 50, 52, ..., 64, 63, 66],\n",
              "       [50, 53, 52, ..., 66, 65, 63],\n",
              "       [52, 54, 53, ..., 67, 66, 62]], dtype=uint8),\n",
              "        0],\n",
              "       [array([[72, 74, 71, ..., 71, 69, 74],\n",
              "       [75, 81, 78, ..., 72, 71, 71],\n",
              "       [74, 67, 70, ..., 72, 73, 71],\n",
              "       ...,\n",
              "       [53, 46, 48, ..., 72, 73, 76],\n",
              "       [54, 50, 46, ..., 75, 71, 73],\n",
              "       [48, 50, 51, ..., 73, 71, 75]], dtype=uint8),\n",
              "        0],\n",
              "       [array([[54, 56, 56, ..., 58, 59, 62],\n",
              "       [55, 54, 55, ..., 58, 60, 60],\n",
              "       [56, 54, 56, ..., 61, 63, 59],\n",
              "       ...,\n",
              "       [47, 46, 49, ..., 64, 63, 63],\n",
              "       [46, 46, 50, ..., 62, 64, 66],\n",
              "       [48, 48, 48, ..., 61, 65, 67]], dtype=uint8),\n",
              "        0],\n",
              "       [array([[55, 55, 53, ..., 61, 61, 60],\n",
              "       [56, 57, 56, ..., 61, 59, 62],\n",
              "       [58, 58, 56, ..., 60, 61, 64],\n",
              "       ...,\n",
              "       [50, 48, 51, ..., 65, 66, 64],\n",
              "       [50, 49, 52, ..., 69, 64, 66],\n",
              "       [50, 51, 51, ..., 65, 63, 66]], dtype=uint8),\n",
              "        0],\n",
              "       [array([[54, 54, 55, ..., 60, 61, 57],\n",
              "       [59, 55, 56, ..., 60, 61, 58],\n",
              "       [57, 55, 54, ..., 59, 60, 61],\n",
              "       ...,\n",
              "       [50, 48, 51, ..., 64, 62, 64],\n",
              "       [50, 50, 51, ..., 67, 60, 66],\n",
              "       [51, 50, 52, ..., 70, 65, 63]], dtype=uint8),\n",
              "        0],\n",
              "       [array([[73, 71, 72, ..., 73, 71, 76],\n",
              "       [76, 80, 84, ..., 75, 74, 74],\n",
              "       [80, 82, 87, ..., 73, 75, 71],\n",
              "       ...,\n",
              "       [52, 54, 57, ..., 76, 78, 76],\n",
              "       [55, 55, 58, ..., 77, 79, 76],\n",
              "       [58, 58, 57, ..., 75, 77, 76]], dtype=uint8),\n",
              "        0],\n",
              "       [array([[71, 75, 71, ..., 71, 69, 73],\n",
              "       [74, 81, 77, ..., 73, 71, 71],\n",
              "       [74, 68, 69, ..., 71, 74, 72],\n",
              "       ...,\n",
              "       [51, 49, 46, ..., 71, 74, 76],\n",
              "       [53, 49, 46, ..., 76, 72, 73],\n",
              "       [48, 49, 51, ..., 74, 71, 73]], dtype=uint8),\n",
              "        0],\n",
              "       [array([[55, 56, 57, ..., 61, 59, 56],\n",
              "       [58, 55, 56, ..., 59, 60, 59],\n",
              "       [55, 52, 59, ..., 62, 61, 59],\n",
              "       ...,\n",
              "       [53, 48, 51, ..., 62, 64, 64],\n",
              "       [53, 49, 50, ..., 65, 65, 65],\n",
              "       [50, 50, 51, ..., 65, 68, 63]], dtype=uint8),\n",
              "        0],\n",
              "       [array([[129, 130, 130, ..., 121, 121, 122],\n",
              "       [130, 130, 133, ..., 121, 122, 122],\n",
              "       [130, 128, 132, ..., 124, 123, 123],\n",
              "       ...,\n",
              "       [107, 109, 100, ...,  57,  59,  59],\n",
              "       [104, 107,  99, ...,  56,  58,  54],\n",
              "       [105, 105,  99, ...,  56,  57,  55]], dtype=uint8),\n",
              "        1],\n",
              "       [array([[124, 125, 125, ..., 125, 124, 124],\n",
              "       [126, 124, 126, ..., 126, 125, 124],\n",
              "       [124, 125, 125, ..., 125, 124, 127],\n",
              "       ...,\n",
              "       [ 87,  88,  88, ...,  91,  93,  90],\n",
              "       [ 86,  87,  86, ...,  92,  91,  92],\n",
              "       [ 85,  86,  86, ...,  91,  90,  91]], dtype=uint8),\n",
              "        1],\n",
              "       [array([[132, 133, 132, ..., 123, 121, 123],\n",
              "       [130, 132, 130, ..., 121, 123, 123],\n",
              "       [128, 131, 129, ..., 122, 122, 120],\n",
              "       ...,\n",
              "       [109, 105, 105, ...,  59,  59,  59],\n",
              "       [108, 101, 108, ...,  57,  59,  57],\n",
              "       [106,  98, 107, ...,  55,  58,  56]], dtype=uint8),\n",
              "        1],\n",
              "       [array([[132, 131, 130, ..., 123, 124, 122],\n",
              "       [130, 131, 128, ..., 123, 122, 123],\n",
              "       [133, 134, 123, ..., 122, 122, 122],\n",
              "       ...,\n",
              "       [107, 107, 108, ...,  59,  59,  60],\n",
              "       [108, 107, 106, ...,  58,  58,  59],\n",
              "       [106, 106, 106, ...,  57,  58,  59]], dtype=uint8),\n",
              "        1],\n",
              "       [array([[128, 129, 127, ..., 125, 126, 125],\n",
              "       [130, 130, 124, ..., 126, 126, 128],\n",
              "       [129, 129, 119, ..., 129, 126, 125],\n",
              "       ...,\n",
              "       [ 84,  82,  92, ...,  89,  92,  88],\n",
              "       [ 78,  92, 110, ...,  90,  89,  88],\n",
              "       [103,  84,  53, ...,  91,  89,  87]], dtype=uint8),\n",
              "        1],\n",
              "       [array([[128, 124, 113, ..., 126, 124, 125],\n",
              "       [126, 116, 113, ..., 125, 125, 126],\n",
              "       [122, 113, 118, ..., 124, 126, 124],\n",
              "       ...,\n",
              "       [ 82,  87,  64, ...,  89,  89,  92],\n",
              "       [ 82,  84,  82, ...,  90,  89,  91],\n",
              "       [ 78, 102,  70, ...,  89,  89,  89]], dtype=uint8),\n",
              "        1],\n",
              "       [array([[131, 129, 131, ..., 123, 123, 125],\n",
              "       [131, 134, 132, ..., 123, 122, 122],\n",
              "       [129, 131, 129, ..., 124, 122, 120],\n",
              "       ...,\n",
              "       [109, 109, 109, ...,  58,  57,  59],\n",
              "       [107, 106, 107, ...,  57,  58,  58],\n",
              "       [107, 105, 104, ...,  56,  58,  56]], dtype=uint8),\n",
              "        1],\n",
              "       [array([[128, 128, 125, ..., 125, 126, 126],\n",
              "       [128, 127, 125, ..., 125, 125, 125],\n",
              "       [129, 124, 129, ..., 126, 126, 125],\n",
              "       ...,\n",
              "       [ 86,  85,  86, ...,  90,  91,  92],\n",
              "       [ 84,  85,  84, ...,  91,  90,  90],\n",
              "       [ 84,  83,  84, ...,  89,  91,  89]], dtype=uint8),\n",
              "        1],\n",
              "       [array([[127, 128, 126, ..., 125, 125, 124],\n",
              "       [127, 125, 120, ..., 124, 124, 125],\n",
              "       [117, 102,  99, ..., 124, 125, 124],\n",
              "       ...,\n",
              "       [ 84,  87,  79, ...,  91,  91,  91],\n",
              "       [ 81,  87,  70, ...,  90,  89,  89],\n",
              "       [ 81,  85,  75, ...,  89,  90,  91]], dtype=uint8),\n",
              "        1],\n",
              "       [array([[128, 130, 127, ..., 123, 120, 120],\n",
              "       [130, 130, 128, ..., 120, 119, 121],\n",
              "       [128, 128, 128, ..., 120, 120, 119],\n",
              "       ...,\n",
              "       [106, 108,  96, ...,  57,  57,  59],\n",
              "       [108, 107,  96, ...,  56,  57,  56],\n",
              "       [106, 106,  92, ...,  56,  56,  54]], dtype=uint8),\n",
              "        1],\n",
              "       [array([[130, 131, 127, ..., 123, 121, 119],\n",
              "       [128, 130, 128, ..., 121, 120, 120],\n",
              "       [125, 127, 126, ..., 120, 119, 119],\n",
              "       ...,\n",
              "       [106, 108,  95, ...,  57,  58,  59],\n",
              "       [106, 108,  94, ...,  56,  57,  57],\n",
              "       [105, 106,  92, ...,  56,  56,  55]], dtype=uint8),\n",
              "        1],\n",
              "       [array([[131, 134, 131, ..., 123, 123, 123],\n",
              "       [129, 132, 130, ..., 122, 122, 123],\n",
              "       [129, 131, 128, ..., 123, 122, 121],\n",
              "       ...,\n",
              "       [110, 103, 107, ...,  58,  60,  60],\n",
              "       [105, 101, 108, ...,  55,  60,  59],\n",
              "       [107,  99, 106, ...,  54,  58,  58]], dtype=uint8),\n",
              "        1],\n",
              "       [array([[130, 124, 113, ..., 125, 124, 125],\n",
              "       [126, 115, 114, ..., 125, 125, 126],\n",
              "       [121, 114, 117, ..., 125, 124, 124],\n",
              "       ...,\n",
              "       [ 81,  86,  65, ...,  90,  90,  91],\n",
              "       [ 82,  84,  83, ...,  89,  90,  90],\n",
              "       [ 77, 102,  70, ...,  87,  89,  90]], dtype=uint8),\n",
              "        1],\n",
              "       [array([[130, 124, 113, ..., 125, 124, 125],\n",
              "       [126, 115, 114, ..., 125, 125, 126],\n",
              "       [121, 114, 117, ..., 125, 124, 124],\n",
              "       ...,\n",
              "       [ 81,  86,  65, ...,  90,  90,  91],\n",
              "       [ 82,  84,  83, ...,  89,  90,  90],\n",
              "       [ 77, 102,  70, ...,  87,  89,  90]], dtype=uint8),\n",
              "        1],\n",
              "       [array([[128, 128, 128, ..., 124, 124, 126],\n",
              "       [129, 131, 124, ..., 126, 126, 127],\n",
              "       [130, 127, 121, ..., 128, 126, 126],\n",
              "       ...,\n",
              "       [ 86,  83,  91, ...,  90,  91,  89],\n",
              "       [ 77,  92, 109, ...,  90,  89,  89],\n",
              "       [102,  84,  52, ...,  91,  88,  88]], dtype=uint8),\n",
              "        1],\n",
              "       [array([[155, 154, 154, ..., 151, 150, 149],\n",
              "       [154, 155, 155, ..., 151, 151, 151],\n",
              "       [155, 155, 156, ..., 151, 150, 151],\n",
              "       ...,\n",
              "       [106, 112,  94, ..., 118, 117, 118],\n",
              "       [110,  97, 111, ..., 117, 117, 116],\n",
              "       [109,  77, 176, ..., 117, 115, 114]], dtype=uint8),\n",
              "        2],\n",
              "       [array([[156, 156, 154, ..., 152, 152, 151],\n",
              "       [156, 156, 156, ..., 151, 151, 150],\n",
              "       [156, 155, 156, ..., 150, 150, 151],\n",
              "       ...,\n",
              "       [105, 107, 155, ..., 121, 119, 121],\n",
              "       [ 84, 154, 171, ..., 120, 119, 119],\n",
              "       [109, 220, 165, ..., 117, 118, 117]], dtype=uint8),\n",
              "        2],\n",
              "       [array([[155, 155, 153, ..., 151, 151, 151],\n",
              "       [154, 153, 155, ..., 149, 151, 151],\n",
              "       [155, 154, 155, ..., 152, 150, 150],\n",
              "       ...,\n",
              "       [107, 106, 108, ..., 118, 117, 119],\n",
              "       [107, 106, 109, ..., 117, 119, 117],\n",
              "       [106, 108, 109, ..., 116, 116, 116]], dtype=uint8),\n",
              "        2],\n",
              "       [array([[153, 154, 154, ..., 150, 150, 150],\n",
              "       [153, 153, 155, ..., 149, 151, 150],\n",
              "       [154, 153, 154, ..., 150, 150, 150],\n",
              "       ...,\n",
              "       [108, 108, 107, ..., 118, 118, 116],\n",
              "       [105, 113,  81, ..., 118, 117, 118],\n",
              "       [109,  96,  96, ..., 116, 114, 115]], dtype=uint8),\n",
              "        2],\n",
              "       [array([[147, 145, 146, ..., 143, 146, 141],\n",
              "       [145, 146, 147, ..., 146, 145, 143],\n",
              "       [145, 147, 147, ..., 145, 144, 145],\n",
              "       ...,\n",
              "       [121, 101, 193, ...,  85,  86,  84],\n",
              "       [103, 152, 237, ...,  83,  87,  85],\n",
              "       [112, 220, 231, ...,  84,  82,  85]], dtype=uint8),\n",
              "        2],\n",
              "       [array([[155, 154, 154, ..., 151, 151, 150],\n",
              "       [155, 153, 155, ..., 151, 150, 150],\n",
              "       [153, 153, 153, ..., 149, 151, 151],\n",
              "       ...,\n",
              "       [109, 107, 110, ..., 119, 118, 120],\n",
              "       [107, 109, 109, ..., 116, 117, 118],\n",
              "       [107, 111,  88, ..., 116, 118, 117]], dtype=uint8),\n",
              "        2],\n",
              "       [array([[153, 154, 153, ..., 149, 150, 150],\n",
              "       [152, 153, 153, ..., 150, 150, 150],\n",
              "       [154, 154, 153, ..., 149, 151, 149],\n",
              "       ...,\n",
              "       [106, 109,  96, ..., 117, 115, 120],\n",
              "       [110,  96, 103, ..., 116, 116, 118],\n",
              "       [113,  72, 157, ..., 116, 114, 114]], dtype=uint8),\n",
              "        2],\n",
              "       [array([[147, 146, 147, ..., 145, 145, 145],\n",
              "       [147, 146, 145, ..., 144, 145, 145],\n",
              "       [144, 145, 145, ..., 146, 145, 145],\n",
              "       ...,\n",
              "       [127, 108, 131, ...,  84,  87,  85],\n",
              "       [117, 107, 209, ...,  80,  85,  87],\n",
              "       [100, 167, 233, ...,  84,  82,  84]], dtype=uint8),\n",
              "        2],\n",
              "       [array([[146, 148, 146, ..., 146, 145, 145],\n",
              "       [145, 147, 147, ..., 145, 145, 145],\n",
              "       [147, 147, 146, ..., 145, 147, 145],\n",
              "       ...,\n",
              "       [125, 132, 101, ...,  86,  84,  88],\n",
              "       [128, 112, 125, ...,  84,  87,  86],\n",
              "       [124, 104, 194, ...,  84,  86,  83]], dtype=uint8),\n",
              "        2],\n",
              "       [array([[154, 155, 156, ..., 149, 150, 148],\n",
              "       [154, 155, 156, ..., 150, 150, 150],\n",
              "       [155, 155, 156, ..., 150, 151, 151],\n",
              "       ...,\n",
              "       [144, 151, 156, ..., 122, 123, 120],\n",
              "       [135, 143, 148, ..., 121, 122, 118],\n",
              "       [125, 137, 143, ..., 117, 120, 119]], dtype=uint8),\n",
              "        2],\n",
              "       [array([[148, 145, 146, ..., 145, 145, 142],\n",
              "       [145, 146, 148, ..., 145, 144, 143],\n",
              "       [145, 148, 146, ..., 146, 145, 144],\n",
              "       ...,\n",
              "       [124, 100, 194, ...,  84,  87,  84],\n",
              "       [101, 153, 239, ...,  83,  86,  85],\n",
              "       [112, 220, 231, ...,  84,  81,  84]], dtype=uint8),\n",
              "        2],\n",
              "       [array([[145, 147, 146, ..., 146, 146, 146],\n",
              "       [145, 148, 146, ..., 145, 145, 145],\n",
              "       [147, 147, 146, ..., 146, 146, 146],\n",
              "       ...,\n",
              "       [127, 129, 103, ...,  86,  85,  88],\n",
              "       [128, 113, 126, ...,  85,  86,  86],\n",
              "       [125, 104, 195, ...,  82,  85,  84]], dtype=uint8),\n",
              "        2],\n",
              "       [array([[145, 147, 146, ..., 146, 146, 146],\n",
              "       [145, 148, 146, ..., 145, 145, 145],\n",
              "       [147, 147, 146, ..., 146, 146, 146],\n",
              "       ...,\n",
              "       [127, 129, 103, ...,  86,  85,  88],\n",
              "       [128, 113, 126, ...,  85,  86,  86],\n",
              "       [125, 104, 195, ...,  82,  85,  84]], dtype=uint8),\n",
              "        2],\n",
              "       [array([[154, 154, 154, ..., 151, 150, 149],\n",
              "       [153, 153, 154, ..., 149, 150, 151],\n",
              "       [153, 153, 153, ..., 150, 150, 150],\n",
              "       ...,\n",
              "       [109, 109, 108, ..., 117, 117, 117],\n",
              "       [107, 111,  82, ..., 118, 118, 118],\n",
              "       [106,  98,  97, ..., 115, 114, 114]], dtype=uint8),\n",
              "        2]], dtype=object)"
            ]
          },
          "metadata": {
            "tags": []
          },
          "execution_count": 116
        }
      ]
    },
    {
      "cell_type": "code",
      "metadata": {
        "id": "K4oEaxpHW3-o",
        "colab_type": "code",
        "colab": {
          "base_uri": "https://localhost:8080/",
          "height": 36
        },
        "outputId": "9f7afa9b-89ff-477c-eb0c-e2bd1397d412"
      },
      "source": [
        "print(len(all_image_instances))"
      ],
      "execution_count": null,
      "outputs": [
        {
          "output_type": "stream",
          "text": [
            "14\n"
          ],
          "name": "stdout"
        }
      ]
    },
    {
      "cell_type": "code",
      "metadata": {
        "id": "Ejf-lRMNXwVl",
        "colab_type": "code",
        "colab": {}
      },
      "source": [
        "all_image_instances"
      ],
      "execution_count": null,
      "outputs": []
    },
    {
      "cell_type": "code",
      "metadata": {
        "id": "30ipPeWHX2ac",
        "colab_type": "code",
        "colab": {
          "base_uri": "https://localhost:8080/",
          "height": 285
        },
        "outputId": "ee7c077d-223b-4926-97e7-3af4bef4d89d"
      },
      "source": [
        "count = 1\n",
        "for all_images in all_image_instances:\n",
        "    print(all_images.shape, count, all_images.dtype)\n",
        "    count += 1"
      ],
      "execution_count": null,
      "outputs": [
        {
          "output_type": "stream",
          "text": [
            "(112, 92, 3) 1 uint8\n",
            "(112, 92, 3) 2 uint8\n",
            "(112, 92, 3) 3 uint8\n",
            "(112, 92, 3) 4 uint8\n",
            "(112, 92, 3) 5 uint8\n",
            "(112, 92, 3) 6 uint8\n",
            "(112, 92, 3) 7 uint8\n",
            "(112, 92, 3) 8 uint8\n",
            "(112, 92, 3) 9 uint8\n",
            "(112, 92, 3) 10 uint8\n",
            "(112, 92, 3) 11 uint8\n",
            "(112, 92, 3) 12 uint8\n",
            "(112, 92, 3) 13 uint8\n",
            "(112, 92, 3) 14 uint8\n"
          ],
          "name": "stdout"
        }
      ]
    },
    {
      "cell_type": "code",
      "metadata": {
        "id": "ldwMe6ove0FB",
        "colab_type": "code",
        "colab": {
          "base_uri": "https://localhost:8080/",
          "height": 36
        },
        "outputId": "b0a88cbc-07bf-4a76-9807-a5651dc3912c"
      },
      "source": [
        "all_image_instances[0].shape\n",
        "# each image is currentlt an array of shape 112 * 92"
      ],
      "execution_count": null,
      "outputs": [
        {
          "output_type": "execute_result",
          "data": {
            "text/plain": [
              "(112, 92, 3)"
            ]
          },
          "metadata": {
            "tags": []
          },
          "execution_count": 73
        }
      ]
    },
    {
      "cell_type": "code",
      "metadata": {
        "id": "F0gsDf3VYg4D",
        "colab_type": "code",
        "colab": {
          "base_uri": "https://localhost:8080/",
          "height": 75
        },
        "outputId": "8b8b461e-472e-4bb7-c9a9-b170714f205a"
      },
      "source": [
        "count = 1\n",
        "for all_folders in folder_index_dictionary:\n",
        "    print(all_folders, count)\n",
        "    count += 1"
      ],
      "execution_count": null,
      "outputs": [
        {
          "output_type": "stream",
          "text": [
            "S7 1\n",
            "S5 2\n",
            "S6 3\n"
          ],
          "name": "stdout"
        }
      ]
    },
    {
      "cell_type": "code",
      "metadata": {
        "id": "Eujl0kOEY3Ar",
        "colab_type": "code",
        "colab": {
          "base_uri": "https://localhost:8080/",
          "height": 36
        },
        "outputId": "b1ffd11a-b8f6-4e90-c217-e7162e152022"
      },
      "source": [
        "print(len(folder_index_dictionary))"
      ],
      "execution_count": null,
      "outputs": [
        {
          "output_type": "stream",
          "text": [
            "3\n"
          ],
          "name": "stdout"
        }
      ]
    },
    {
      "cell_type": "markdown",
      "metadata": {
        "id": "69rceIxSf789",
        "colab_type": "text"
      },
      "source": [
        "y has indices, 0 if image belongs to folder 1, and so on"
      ]
    },
    {
      "cell_type": "code",
      "metadata": {
        "id": "zuMtP3sw4FZJ",
        "colab_type": "code",
        "colab": {
          "base_uri": "https://localhost:8080/",
          "height": 36
        },
        "outputId": "6eb18e4f-30cc-49f7-dab6-48c7e9465bc5"
      },
      "source": [
        "print(len(y))\n",
        "# 3 * 14 = 42\n",
        "# why is it showing 43??"
      ],
      "execution_count": null,
      "outputs": [
        {
          "output_type": "stream",
          "text": [
            "43\n"
          ],
          "name": "stdout"
        }
      ]
    },
    {
      "cell_type": "markdown",
      "metadata": {
        "id": "8AW-Itq6fSc7",
        "colab_type": "text"
      },
      "source": [
        "To see what does X contain"
      ]
    },
    {
      "cell_type": "code",
      "metadata": {
        "id": "wCyS5EPrY_gb",
        "colab_type": "code",
        "colab": {
          "base_uri": "https://localhost:8080/",
          "height": 36
        },
        "outputId": "8048611e-d04d-4305-b2e0-e349a79ae112"
      },
      "source": [
        "len(X)\n",
        "# three batches of 14 images for each folder = 3 * 14 = 42"
      ],
      "execution_count": null,
      "outputs": [
        {
          "output_type": "execute_result",
          "data": {
            "text/plain": [
              "43"
            ]
          },
          "metadata": {
            "tags": []
          },
          "execution_count": 118
        }
      ]
    },
    {
      "cell_type": "markdown",
      "metadata": {
        "id": "vYU3Ei0tXxXJ",
        "colab_type": "text"
      },
      "source": [
        "Function to load images and Data Engineering"
      ]
    },
    {
      "cell_type": "code",
      "metadata": {
        "id": "gj6BHONqXufJ",
        "colab_type": "code",
        "colab": {}
      },
      "source": [
        "def loadimgs (path, n = 0):\n",
        "    X = []\n",
        "    y = []\n",
        "    folder_index_dictionary = {}\n",
        "    # to indicate folder index\n",
        "    curr_y = n\n",
        "\n",
        "    # do this for all the folders in training set \n",
        "    for folder in os.listdir(path):\n",
        "        print(\"loading folder\" + folder, curr_y)\n",
        "        # folder_index_dictionary contains keys such as S1, S2, S3\n",
        "        # for each key there is a list of length 2\n",
        "        # first element of that list contains index of the folder\n",
        "        # second index of list contains None and \n",
        "        # will later contain a value equal to curr_y-1\n",
        "        folder_index_dictionary[folder] = [curr_y, None]\n",
        "        folder_path = os.path.join(path, folder)\n",
        "\n",
        "        # do this for all the images in a folder\n",
        "        for filename in os.listdir(folder_path):\n",
        "            image_path = os.path.join(folder_path, filename)\n",
        "            X.append(\n",
        "                [np.asarray(\n",
        "                    Image.open(image_path).crop((10,0,92,102)).resize((64,64), Image.ANTIALIAS)\n",
        "                ), curr_y]\n",
        "            )\n",
        "            y.append(curr_y)\n",
        "        curr_y += 1\n",
        "        # what is this doing??\n",
        "        # decrementing so that previous value could be stored\n",
        "        folder_index_dictionary[folder][1] = curr_y - 1\n",
        "    y = np.vstack(y)\n",
        "    X = np.stack(X)\n",
        "    return X, y, folder_index_dictionary \n",
        "          "
      ],
      "execution_count": null,
      "outputs": []
    },
    {
      "cell_type": "markdown",
      "metadata": {
        "id": "ob55X_3d9jQk",
        "colab_type": "text"
      },
      "source": [
        "Loading the train images into tensors"
      ]
    },
    {
      "cell_type": "code",
      "metadata": {
        "id": "83mR5MZM3kjb",
        "colab_type": "code",
        "colab": {}
      },
      "source": [
        "X, y, c = loadimgs(train_dir)"
      ],
      "execution_count": null,
      "outputs": []
    },
    {
      "cell_type": "code",
      "metadata": {
        "id": "zx7Bs1yAb4Ao",
        "colab_type": "code",
        "colab": {
          "base_uri": "https://localhost:8080/",
          "height": 36
        },
        "outputId": "acc0b4a4-c79b-4657-bed5-4e1201e9994b"
      },
      "source": [
        "print(X.shape)\n",
        "# X contains 36 folders and each folder has 14 images\n",
        "# so 36 * 14 = 504 rows\n",
        "# 2 columns, one for image tensors, one for labels"
      ],
      "execution_count": null,
      "outputs": [
        {
          "output_type": "stream",
          "text": [
            "(504, 2)\n"
          ],
          "name": "stdout"
        }
      ]
    },
    {
      "cell_type": "code",
      "metadata": {
        "id": "xy-ATa9QcDSU",
        "colab_type": "code",
        "colab": {
          "base_uri": "https://localhost:8080/",
          "height": 36
        },
        "outputId": "dcd554f1-44b5-4cee-d083-8b45f03789a5"
      },
      "source": [
        "print(X[0].shape)"
      ],
      "execution_count": null,
      "outputs": [
        {
          "output_type": "stream",
          "text": [
            "(2,)\n"
          ],
          "name": "stdout"
        }
      ]
    },
    {
      "cell_type": "markdown",
      "metadata": {
        "id": "Z8BBRw0p9wOX",
        "colab_type": "text"
      },
      "source": [
        "Saving the train tensors on disk"
      ]
    },
    {
      "cell_type": "code",
      "metadata": {
        "id": "1WBZ6HXl9rQN",
        "colab_type": "code",
        "colab": {}
      },
      "source": [
        "with open(os.path.join(save_path,\"train.pickle\"), \"wb\") as f:\n",
        "    pickle.dump((X,c),f)"
      ],
      "execution_count": null,
      "outputs": []
    },
    {
      "cell_type": "markdown",
      "metadata": {
        "id": "MVzca0a-iV0q",
        "colab_type": "text"
      },
      "source": [
        "Loading the validation images into tensor"
      ]
    },
    {
      "cell_type": "code",
      "metadata": {
        "id": "1S2C5JM7iU-Y",
        "colab_type": "code",
        "colab": {
          "base_uri": "https://localhost:8080/",
          "height": 75
        },
        "outputId": "c92137eb-f396-4184-e0b6-cb9bb619183e"
      },
      "source": [
        "Xval,yval,cval=loadimgs(validation_dir)"
      ],
      "execution_count": null,
      "outputs": [
        {
          "output_type": "stream",
          "text": [
            "loading folderS7 0\n",
            "loading folderS5 1\n",
            "loading folderS6 2\n"
          ],
          "name": "stdout"
        }
      ]
    },
    {
      "cell_type": "markdown",
      "metadata": {
        "id": "vkREAKnq_9CN",
        "colab_type": "text"
      },
      "source": [
        "Saving the validation tensors on disk"
      ]
    },
    {
      "cell_type": "code",
      "metadata": {
        "id": "eHCAHnuA_8cp",
        "colab_type": "code",
        "colab": {}
      },
      "source": [
        "with open(os.path.join(save_path,\"val.pickle\"), \"wb\") as f:\n",
        "    pickle.dump((Xval,cval),f)"
      ],
      "execution_count": null,
      "outputs": []
    },
    {
      "cell_type": "code",
      "metadata": {
        "id": "rdIfOGnz_7Xj",
        "colab_type": "code",
        "colab": {}
      },
      "source": [
        "def initialize_weights(shape, name=None):\n",
        "    \n",
        "        # The paper, http://www.cs.utoronto.ca/~gkoch/files/msc-thesis.pdf\n",
        "        # suggests to initialize CNN layer weights with mean as 0.0 and standard deviation of 0.01\n",
        "\n",
        "    # as mentioned in Harshall Lamba's blog\n",
        "    # https://github.com/hlamba28/One-Shot-Learning-with-Siamese-Networks/blob/master/Siamese%20on%20Omniglot%20Dataset.ipynb\n",
        "    return np.random.normal(loc = 0.0, scale = 1e-2, size = shape)"
      ],
      "execution_count": null,
      "outputs": []
    },
    {
      "cell_type": "code",
      "metadata": {
        "id": "K__18YnqCpiU",
        "colab_type": "code",
        "colab": {}
      },
      "source": [
        "def initialize_bias(shape, name=None):\n",
        "    \n",
        "       # The paper, http://www.cs.utoronto.ca/~gkoch/files/msc-thesis.pdf\n",
        "       # suggests to initialize CNN layer bias with mean as 0.5 and standard deviation of 0.01\n",
        "    \n",
        "    return np.random.normal(loc = 0.5, scale = 1e-2, size = shape)"
      ],
      "execution_count": null,
      "outputs": []
    },
    {
      "cell_type": "markdown",
      "metadata": {
        "id": "3OJGagmXK5rg",
        "colab_type": "text"
      },
      "source": [
        "Building Siamese Model"
      ]
    },
    {
      "cell_type": "code",
      "metadata": {
        "id": "vJj2uv-eK8cw",
        "colab_type": "code",
        "colab": {}
      },
      "source": [
        "def get_siamese_model(input_shape):\n",
        "    \n",
        "    # Model architecture based on the one provided in: http://www.cs.utoronto.ca/~gkoch/files/msc-thesis.pdf\n",
        "    \n",
        "    # Define the tensors for the two input images\n",
        "    left_input = Input(input_shape)\n",
        "    right_input = Input(input_shape)\n",
        "    \n",
        "    # Convolutional Neural Network\n",
        "    model = Sequential()\n",
        "    model.add(Conv2D(64, (10,10), activation='relu', input_shape = input_shape,\n",
        "                   kernel_initializer = initialize_weights, kernel_regularizer = l2(2e-4)))\n",
        "    model.add(MaxPooling2D())\n",
        "    model.add(Conv2D(128, (7,7), activation = 'relu',\n",
        "                     kernel_initializer = initialize_weights,\n",
        "                     bias_initializer = initialize_bias, kernel_regularizer = l2(2e-4)))\n",
        "    model.add(MaxPooling2D())\n",
        "    model.add(Conv2D(128, (4,4), activation = 'relu', kernel_initializer = initialize_weights,\n",
        "                     bias_initializer = initialize_bias, kernel_regularizer = l2(2e-4)))\n",
        "    model.add(MaxPooling2D())\n",
        "    model.add(Conv2D(256, (4,4), activation = 'relu', kernel_initializer = initialize_weights,\n",
        "                     bias_initializer = initialize_bias, kernel_regularizer = l2(2e-4)))\n",
        "    model.add(Flatten())\n",
        "    model.add(Dense(4096, activation = 'sigmoid',\n",
        "                   kernel_regularizer = l2(1e-3),\n",
        "                   kernel_initializer = initialize_weights,bias_initializer = initialize_bias))\n",
        "    \n",
        "    # Generate the encodings (feature vectors) for the two images\n",
        "    encoded_l = model(left_input)\n",
        "    encoded_r = model(right_input)\n",
        "    \n",
        "    # Add a customized layer to compute the absolute difference between the encodings\n",
        "    L1_layer = Lambda(lambda tensors:K.abs(tensors[0] - tensors[1]))\n",
        "    L1_distance = L1_layer([encoded_l, encoded_r])\n",
        "    \n",
        "    # Add a dense layer with a sigmoid unit to generate the similarity score\n",
        "    prediction = Dense(1,activation = 'sigmoid', bias_initializer = initialize_bias)(L1_distance)\n",
        "    \n",
        "    # Connect the inputs with the outputs\n",
        "    siamese_net = Model(inputs = [left_input,right_input], outputs = prediction)\n",
        "    \n",
        "    # return the model\n",
        "    return siamese_net"
      ],
      "execution_count": null,
      "outputs": []
    },
    {
      "cell_type": "code",
      "metadata": {
        "id": "hXg9n8Y0MCBp",
        "colab_type": "code",
        "colab": {
          "base_uri": "https://localhost:8080/",
          "height": 355
        },
        "outputId": "26f99314-ac0f-4b23-c4bc-e94794e6d0ac"
      },
      "source": [
        "model = get_siamese_model((64, 64, 1))\n",
        "model.summary()"
      ],
      "execution_count": null,
      "outputs": [
        {
          "output_type": "error",
          "ename": "TypeError",
          "evalue": "ignored",
          "traceback": [
            "\u001b[0;31m---------------------------------------------------------------------------\u001b[0m",
            "\u001b[0;31mTypeError\u001b[0m                                 Traceback (most recent call last)",
            "\u001b[0;32m<ipython-input-34-63a2dcb474fc>\u001b[0m in \u001b[0;36m<module>\u001b[0;34m()\u001b[0m\n\u001b[0;32m----> 1\u001b[0;31m \u001b[0mmodel\u001b[0m \u001b[0;34m=\u001b[0m \u001b[0mget_siamese_model\u001b[0m\u001b[0;34m(\u001b[0m\u001b[0;34m(\u001b[0m\u001b[0;36m64\u001b[0m\u001b[0;34m,\u001b[0m \u001b[0;36m64\u001b[0m\u001b[0;34m,\u001b[0m \u001b[0;36m1\u001b[0m\u001b[0;34m)\u001b[0m\u001b[0;34m)\u001b[0m\u001b[0;34m\u001b[0m\u001b[0;34m\u001b[0m\u001b[0m\n\u001b[0m\u001b[1;32m      2\u001b[0m \u001b[0mmodel\u001b[0m\u001b[0;34m.\u001b[0m\u001b[0msummary\u001b[0m\u001b[0;34m(\u001b[0m\u001b[0;34m)\u001b[0m\u001b[0;34m\u001b[0m\u001b[0;34m\u001b[0m\u001b[0m\n",
            "\u001b[0;32m<ipython-input-33-c41fd3bc053c>\u001b[0m in \u001b[0;36mget_siamese_model\u001b[0;34m(input_shape)\u001b[0m\n\u001b[1;32m     11\u001b[0m     \u001b[0mmodel\u001b[0m \u001b[0;34m=\u001b[0m \u001b[0mSequential\u001b[0m\u001b[0;34m(\u001b[0m\u001b[0;34m)\u001b[0m\u001b[0;34m\u001b[0m\u001b[0;34m\u001b[0m\u001b[0m\n\u001b[1;32m     12\u001b[0m     model.add(Conv2D(64, (10,10), activation='relu', input_shape = input_shape,\n\u001b[0;32m---> 13\u001b[0;31m                    kernel_initializer = initialize_weights, kernel_regularizer = l2(2e-4)))\n\u001b[0m\u001b[1;32m     14\u001b[0m     \u001b[0mmodel\u001b[0m\u001b[0;34m.\u001b[0m\u001b[0madd\u001b[0m\u001b[0;34m(\u001b[0m\u001b[0mMaxPooling2D\u001b[0m\u001b[0;34m(\u001b[0m\u001b[0;34m)\u001b[0m\u001b[0;34m)\u001b[0m\u001b[0;34m\u001b[0m\u001b[0;34m\u001b[0m\u001b[0m\n\u001b[1;32m     15\u001b[0m     model.add(Conv2D(128, (7,7), activation = 'relu',\n",
            "\u001b[0;32m/usr/local/lib/python3.6/dist-packages/keras/engine/sequential.py\u001b[0m in \u001b[0;36madd\u001b[0;34m(self, layer)\u001b[0m\n\u001b[1;32m    164\u001b[0m                     \u001b[0;31m# and create the node connecting the current layer\u001b[0m\u001b[0;34m\u001b[0m\u001b[0;34m\u001b[0m\u001b[0;34m\u001b[0m\u001b[0m\n\u001b[1;32m    165\u001b[0m                     \u001b[0;31m# to the input layer we just created.\u001b[0m\u001b[0;34m\u001b[0m\u001b[0;34m\u001b[0m\u001b[0;34m\u001b[0m\u001b[0m\n\u001b[0;32m--> 166\u001b[0;31m                     \u001b[0mlayer\u001b[0m\u001b[0;34m(\u001b[0m\u001b[0mx\u001b[0m\u001b[0;34m)\u001b[0m\u001b[0;34m\u001b[0m\u001b[0;34m\u001b[0m\u001b[0m\n\u001b[0m\u001b[1;32m    167\u001b[0m                     \u001b[0mset_inputs\u001b[0m \u001b[0;34m=\u001b[0m \u001b[0;32mTrue\u001b[0m\u001b[0;34m\u001b[0m\u001b[0;34m\u001b[0m\u001b[0m\n\u001b[1;32m    168\u001b[0m             \u001b[0;32melse\u001b[0m\u001b[0;34m:\u001b[0m\u001b[0;34m\u001b[0m\u001b[0;34m\u001b[0m\u001b[0m\n",
            "\u001b[0;32m/usr/local/lib/python3.6/dist-packages/keras/backend/tensorflow_backend.py\u001b[0m in \u001b[0;36msymbolic_fn_wrapper\u001b[0;34m(*args, **kwargs)\u001b[0m\n\u001b[1;32m     73\u001b[0m         \u001b[0;32mif\u001b[0m \u001b[0m_SYMBOLIC_SCOPE\u001b[0m\u001b[0;34m.\u001b[0m\u001b[0mvalue\u001b[0m\u001b[0;34m:\u001b[0m\u001b[0;34m\u001b[0m\u001b[0;34m\u001b[0m\u001b[0m\n\u001b[1;32m     74\u001b[0m             \u001b[0;32mwith\u001b[0m \u001b[0mget_graph\u001b[0m\u001b[0;34m(\u001b[0m\u001b[0;34m)\u001b[0m\u001b[0;34m.\u001b[0m\u001b[0mas_default\u001b[0m\u001b[0;34m(\u001b[0m\u001b[0;34m)\u001b[0m\u001b[0;34m:\u001b[0m\u001b[0;34m\u001b[0m\u001b[0;34m\u001b[0m\u001b[0m\n\u001b[0;32m---> 75\u001b[0;31m                 \u001b[0;32mreturn\u001b[0m \u001b[0mfunc\u001b[0m\u001b[0;34m(\u001b[0m\u001b[0;34m*\u001b[0m\u001b[0margs\u001b[0m\u001b[0;34m,\u001b[0m \u001b[0;34m**\u001b[0m\u001b[0mkwargs\u001b[0m\u001b[0;34m)\u001b[0m\u001b[0;34m\u001b[0m\u001b[0;34m\u001b[0m\u001b[0m\n\u001b[0m\u001b[1;32m     76\u001b[0m         \u001b[0;32melse\u001b[0m\u001b[0;34m:\u001b[0m\u001b[0;34m\u001b[0m\u001b[0;34m\u001b[0m\u001b[0m\n\u001b[1;32m     77\u001b[0m             \u001b[0;32mreturn\u001b[0m \u001b[0mfunc\u001b[0m\u001b[0;34m(\u001b[0m\u001b[0;34m*\u001b[0m\u001b[0margs\u001b[0m\u001b[0;34m,\u001b[0m \u001b[0;34m**\u001b[0m\u001b[0mkwargs\u001b[0m\u001b[0;34m)\u001b[0m\u001b[0;34m\u001b[0m\u001b[0;34m\u001b[0m\u001b[0m\n",
            "\u001b[0;32m/usr/local/lib/python3.6/dist-packages/keras/engine/base_layer.py\u001b[0m in \u001b[0;36m__call__\u001b[0;34m(self, inputs, **kwargs)\u001b[0m\n\u001b[1;32m    461\u001b[0m                                          \u001b[0;34m'You can build it manually via: '\u001b[0m\u001b[0;34m\u001b[0m\u001b[0;34m\u001b[0m\u001b[0m\n\u001b[1;32m    462\u001b[0m                                          '`layer.build(batch_input_shape)`')\n\u001b[0;32m--> 463\u001b[0;31m                 \u001b[0mself\u001b[0m\u001b[0;34m.\u001b[0m\u001b[0mbuild\u001b[0m\u001b[0;34m(\u001b[0m\u001b[0munpack_singleton\u001b[0m\u001b[0;34m(\u001b[0m\u001b[0minput_shapes\u001b[0m\u001b[0;34m)\u001b[0m\u001b[0;34m)\u001b[0m\u001b[0;34m\u001b[0m\u001b[0;34m\u001b[0m\u001b[0m\n\u001b[0m\u001b[1;32m    464\u001b[0m                 \u001b[0mself\u001b[0m\u001b[0;34m.\u001b[0m\u001b[0mbuilt\u001b[0m \u001b[0;34m=\u001b[0m \u001b[0;32mTrue\u001b[0m\u001b[0;34m\u001b[0m\u001b[0;34m\u001b[0m\u001b[0m\n\u001b[1;32m    465\u001b[0m \u001b[0;34m\u001b[0m\u001b[0m\n",
            "\u001b[0;32m/usr/local/lib/python3.6/dist-packages/keras/layers/convolutional.py\u001b[0m in \u001b[0;36mbuild\u001b[0;34m(self, input_shape)\u001b[0m\n\u001b[1;32m    139\u001b[0m                                       \u001b[0mname\u001b[0m\u001b[0;34m=\u001b[0m\u001b[0;34m'kernel'\u001b[0m\u001b[0;34m,\u001b[0m\u001b[0;34m\u001b[0m\u001b[0;34m\u001b[0m\u001b[0m\n\u001b[1;32m    140\u001b[0m                                       \u001b[0mregularizer\u001b[0m\u001b[0;34m=\u001b[0m\u001b[0mself\u001b[0m\u001b[0;34m.\u001b[0m\u001b[0mkernel_regularizer\u001b[0m\u001b[0;34m,\u001b[0m\u001b[0;34m\u001b[0m\u001b[0;34m\u001b[0m\u001b[0m\n\u001b[0;32m--> 141\u001b[0;31m                                       constraint=self.kernel_constraint)\n\u001b[0m\u001b[1;32m    142\u001b[0m         \u001b[0;32mif\u001b[0m \u001b[0mself\u001b[0m\u001b[0;34m.\u001b[0m\u001b[0muse_bias\u001b[0m\u001b[0;34m:\u001b[0m\u001b[0;34m\u001b[0m\u001b[0;34m\u001b[0m\u001b[0m\n\u001b[1;32m    143\u001b[0m             self.bias = self.add_weight(shape=(self.filters,),\n",
            "\u001b[0;32m/usr/local/lib/python3.6/dist-packages/keras/engine/base_layer.py\u001b[0m in \u001b[0;36madd_weight\u001b[0;34m(self, name, shape, dtype, initializer, regularizer, trainable, constraint)\u001b[0m\n\u001b[1;32m    277\u001b[0m         \u001b[0;32mif\u001b[0m \u001b[0mdtype\u001b[0m \u001b[0;32mis\u001b[0m \u001b[0;32mNone\u001b[0m\u001b[0;34m:\u001b[0m\u001b[0;34m\u001b[0m\u001b[0;34m\u001b[0m\u001b[0m\n\u001b[1;32m    278\u001b[0m             \u001b[0mdtype\u001b[0m \u001b[0;34m=\u001b[0m \u001b[0mself\u001b[0m\u001b[0;34m.\u001b[0m\u001b[0mdtype\u001b[0m\u001b[0;34m\u001b[0m\u001b[0;34m\u001b[0m\u001b[0m\n\u001b[0;32m--> 279\u001b[0;31m         weight = K.variable(initializer(shape, dtype=dtype),\n\u001b[0m\u001b[1;32m    280\u001b[0m                             \u001b[0mdtype\u001b[0m\u001b[0;34m=\u001b[0m\u001b[0mdtype\u001b[0m\u001b[0;34m,\u001b[0m\u001b[0;34m\u001b[0m\u001b[0;34m\u001b[0m\u001b[0m\n\u001b[1;32m    281\u001b[0m                             \u001b[0mname\u001b[0m\u001b[0;34m=\u001b[0m\u001b[0mname\u001b[0m\u001b[0;34m,\u001b[0m\u001b[0;34m\u001b[0m\u001b[0;34m\u001b[0m\u001b[0m\n",
            "\u001b[0;31mTypeError\u001b[0m: initialize_weights() got an unexpected keyword argument 'dtype'"
          ]
        }
      ]
    },
    {
      "cell_type": "markdown",
      "metadata": {
        "id": "krOfGhVoKNGe",
        "colab_type": "text"
      },
      "source": [
        "Making pairs"
      ]
    }
  ]
}